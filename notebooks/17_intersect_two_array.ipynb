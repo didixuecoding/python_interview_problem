{
 "cells": [
  {
   "attachments": {},
   "cell_type": "markdown",
   "metadata": {},
   "source": [
    "Given two integer arrays nums1 and nums2, return an array of their intersection. Each element in the result must appear as many times as it shows in both arrays and you may return the result in any order.\n",
    "\n",
    " \n",
    "Example 1:\n",
    "\n",
    "Input: nums1 = [1,2,2,1], nums2 = [2,2]\n",
    "\n",
    "Output: [2,2]\n",
    "\n",
    "Example 2:\n",
    "\n",
    "Input: nums1 = [4,9,5], nums2 = [9,4,9,8,4]\n",
    "\n",
    "Output: [4,9]\n",
    "\n",
    "Explanation: [9,4] is also accepted."
   ]
  },
  {
   "cell_type": "code",
   "execution_count": 4,
   "metadata": {},
   "outputs": [],
   "source": [
    "def intersect_two_array_m1(nums1, nums2):\n",
    "    counter1 = {}\n",
    "    for num in nums1:\n",
    "        counter1[num] = counter1.get(num, 0) + 1\n",
    "    \n",
    "    intersect = []\n",
    "    for num in nums2:\n",
    "        if num in counter1 and counter1[num] > 0:\n",
    "            intersect.append(num)\n",
    "            counter1[num] -= 1\n",
    "    \n",
    "    return intersect\n"
   ]
  },
  {
   "cell_type": "code",
   "execution_count": 5,
   "metadata": {},
   "outputs": [
    {
     "name": "stdout",
     "output_type": "stream",
     "text": [
      "[9, 4]\n"
     ]
    }
   ],
   "source": [
    "nums1 = [4,9,5]\n",
    "nums2 = [9,4,9,8,4]\n",
    "\n",
    "print(intersect_two_array_m1(nums1, nums2))"
   ]
  },
  {
   "cell_type": "code",
   "execution_count": 6,
   "metadata": {},
   "outputs": [],
   "source": [
    "# without using count\n",
    "def intersect_two_array_m2(nums1, nums2):\n",
    "    nums1.sort()\n",
    "    nums2.sort()\n",
    "    \n",
    "    ptr1 = 0\n",
    "    ptr2 = 0\n",
    "    \n",
    "    intersection = []\n",
    "    while ptr1 < len(nums1) and ptr2 < len(nums2):\n",
    "        if nums1[ptr1] == nums2[ptr2]:\n",
    "            intersection.append(nums1[ptr1])\n",
    "            ptr1 += 1\n",
    "            ptr2 += 1\n",
    "        elif nums1[ptr1] < nums2[ptr2]:\n",
    "            ptr1 += 1\n",
    "        else:\n",
    "            ptr2 += 1\n",
    "    \n",
    "    return intersection\n"
   ]
  },
  {
   "cell_type": "code",
   "execution_count": 7,
   "metadata": {},
   "outputs": [
    {
     "name": "stdout",
     "output_type": "stream",
     "text": [
      "[9, 4]\n"
     ]
    }
   ],
   "source": [
    "nums1 = [4,9,5]\n",
    "nums2 = [9,4,9,8,4]\n",
    "\n",
    "print(intersect_two_array_m1(nums1, nums2))"
   ]
  }
 ],
 "metadata": {
  "kernelspec": {
   "display_name": "venv",
   "language": "python",
   "name": "python3"
  },
  "language_info": {
   "codemirror_mode": {
    "name": "ipython",
    "version": 3
   },
   "file_extension": ".py",
   "mimetype": "text/x-python",
   "name": "python",
   "nbconvert_exporter": "python",
   "pygments_lexer": "ipython3",
   "version": "3.8.3"
  },
  "orig_nbformat": 4
 },
 "nbformat": 4,
 "nbformat_minor": 2
}
