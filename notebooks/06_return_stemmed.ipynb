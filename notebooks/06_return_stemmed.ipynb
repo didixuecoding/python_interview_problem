{
 "cells": [
  {
   "attachments": {},
   "cell_type": "markdown",
   "metadata": {},
   "source": [
    "Given a dictionary consisting of many roots and a sentence, write a function replace_words to stem all the words in the sentence with the root forming it. \n",
    "\n",
    "If a word has many roots that can form it, replace it with the root with the shortest length.\n",
    "\n",
    "Example:\n",
    "\n",
    "Input:\n",
    "\n",
    "roots = [\"cat\", \"bat\", \"rat\"]\n",
    "\n",
    "sentence = \"the cattle was rattled by the battery\"\n",
    "\n",
    "Output:\n",
    "\n",
    " \"the cat was rat by the bat\""
   ]
  },
  {
   "cell_type": "code",
   "execution_count": 1,
   "metadata": {},
   "outputs": [],
   "source": [
    "def return_stemmed(roots, sentence) -> str:\n",
    "    # sorting roots by len\n",
    "    roots.sort(key=len)\n",
    "\n",
    "    list_of_words = sentence.split(' ')\n",
    "    \n",
    "    for index, word in enumerate(list_of_words):\n",
    "        for root in roots:\n",
    "            if word.startswith(root):\n",
    "                list_of_words[index] = root\n",
    "\n",
    "    return ' '.join(list_of_words)"
   ]
  },
  {
   "cell_type": "code",
   "execution_count": 2,
   "metadata": {},
   "outputs": [
    {
     "name": "stdout",
     "output_type": "stream",
     "text": [
      "the cat was rat by the bat\n"
     ]
    }
   ],
   "source": [
    "roots = [\"cat\", \"bat\", \"rat\"]\n",
    "sentence = \"the cattle was rattled by the battery\"\n",
    "print(return_stemmed(roots, sentence))"
   ]
  }
 ],
 "metadata": {
  "kernelspec": {
   "display_name": "venv",
   "language": "python",
   "name": "python3"
  },
  "language_info": {
   "codemirror_mode": {
    "name": "ipython",
    "version": 3
   },
   "file_extension": ".py",
   "mimetype": "text/x-python",
   "name": "python",
   "nbconvert_exporter": "python",
   "pygments_lexer": "ipython3",
   "version": "3.8.3"
  },
  "orig_nbformat": 4
 },
 "nbformat": 4,
 "nbformat_minor": 2
}
