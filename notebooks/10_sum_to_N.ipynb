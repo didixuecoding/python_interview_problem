{
 "cells": [
  {
   "attachments": {},
   "cell_type": "markdown",
   "metadata": {},
   "source": [
    "Given a list of integers, and an integer N, write a function sum_to_n to find all combinations that sum to the value N.\n",
    "\n",
    "Example: \n",
    "\n",
    "Input:\n",
    "\n",
    "integers = [2,3,5]\n",
    "\n",
    "N = 8\n",
    "\n",
    "Output:\n",
    "\n",
    "def sum_to_n(integers, N) ->\n",
    "\n",
    " [\n",
    "  [2,2,2,2],\n",
    "  [2,3,3],\n",
    "  [3,5]\n",
    "]"
   ]
  },
  {
   "cell_type": "code",
   "execution_count": 1,
   "metadata": {},
   "outputs": [],
   "source": [
    "def sum_to_n(lst, N):\n",
    "    results = []\n",
    "    _sum_to_n_helper(lst, N, [], results)\n",
    "    return results\n",
    "\n",
    "def _sum_to_n_helper(lst, target, current, results):\n",
    "    if target == 0:\n",
    "        results.append(current)\n",
    "    elif target > 0:\n",
    "        for i, num in enumerate(lst):\n",
    "            _sum_to_n_helper(lst[i:], target - num, current + [num], results)"
   ]
  },
  {
   "attachments": {},
   "cell_type": "markdown",
   "metadata": {},
   "source": [
    "The sum_to_n function takes a list of integers lst and an integer N as input, and returns a list of lists, where each sublist is a combination of numbers from lst that sum to N.\n",
    "\n",
    "The function works by using a recursive helper function _sum_to_n_helper that takes the current list of numbers being considered, the remaining target sum, the current combination, and a reference to the results list. At each step, the function checks if the target sum is zero, in which case it appends the current combination to the results list. If the target sum is positive, the function iterates over the remaining numbers in the list and calls itself with a reduced target sum and the current combination appended with the current number."
   ]
  },
  {
   "cell_type": "code",
   "execution_count": 4,
   "metadata": {},
   "outputs": [
    {
     "data": {
      "text/plain": [
       "[[1, 1, 1, 1, 1], [1, 1, 1, 2], [1, 1, 3], [1, 2, 2], [1, 4], [2, 3], [5]]"
      ]
     },
     "execution_count": 4,
     "metadata": {},
     "output_type": "execute_result"
    }
   ],
   "source": [
    "integers = [1, 2, 3, 4, 5]\n",
    "N = 5\n",
    "\n",
    "sum_to_n(integers, N)"
   ]
  },
  {
   "cell_type": "code",
   "execution_count": 5,
   "metadata": {},
   "outputs": [
    {
     "data": {
      "text/plain": [
       "[[2, 2, 2, 2], [2, 3, 3], [3, 5]]"
      ]
     },
     "execution_count": 5,
     "metadata": {},
     "output_type": "execute_result"
    }
   ],
   "source": [
    "integers = [2, 3, 5]\n",
    "N = 8\n",
    "\n",
    "sum_to_n(integers, N)"
   ]
  },
  {
   "cell_type": "code",
   "execution_count": 6,
   "metadata": {},
   "outputs": [],
   "source": [
    "def sum_to_n_norepeat(lst, N):\n",
    "    results = []\n",
    "    _sum_to_n_helper_norepeat(lst, N, [], results, 0)\n",
    "    return results\n",
    "\n",
    "def _sum_to_n_helper_norepeat(lst, target, current, results, start):\n",
    "    if target == 0:\n",
    "        results.append(current)\n",
    "    elif target > 0:\n",
    "        for i in range(start, len(lst)):\n",
    "            num = lst[i]\n",
    "            _sum_to_n_helper_norepeat(lst, target - num, current + [num], results, i+1)\n"
   ]
  },
  {
   "cell_type": "code",
   "execution_count": 7,
   "metadata": {},
   "outputs": [
    {
     "data": {
      "text/plain": [
       "[[1, 4], [2, 3], [5]]"
      ]
     },
     "execution_count": 7,
     "metadata": {},
     "output_type": "execute_result"
    }
   ],
   "source": [
    "integers = [1, 2, 3, 4, 5]\n",
    "N = 5\n",
    "\n",
    "sum_to_n_norepeat(integers, N)"
   ]
  }
 ],
 "metadata": {
  "kernelspec": {
   "display_name": "venv",
   "language": "python",
   "name": "python3"
  },
  "language_info": {
   "codemirror_mode": {
    "name": "ipython",
    "version": 3
   },
   "file_extension": ".py",
   "mimetype": "text/x-python",
   "name": "python",
   "nbconvert_exporter": "python",
   "pygments_lexer": "ipython3",
   "version": "3.8.3"
  },
  "orig_nbformat": 4
 },
 "nbformat": 4,
 "nbformat_minor": 2
}
