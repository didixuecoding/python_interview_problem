{
 "cells": [
  {
   "attachments": {},
   "cell_type": "markdown",
   "metadata": {},
   "source": [
    " Write a function to create a queue and display all the members and size of the queue"
   ]
  },
  {
   "cell_type": "code",
   "execution_count": 1,
   "metadata": {},
   "outputs": [],
   "source": [
    "# implementation of a queue class in Python using a list, along with a function to display all the members and size of the queue\n",
    "class Queue:\n",
    "    def __init__(self):\n",
    "        self.items = []\n",
    "\n",
    "    def enqueue(self, item):\n",
    "        self.items.append(item)\n",
    "\n",
    "    def dequeue(self):\n",
    "        if not self.is_empty():\n",
    "            return self.items.pop(0)\n",
    "\n",
    "    def is_empty(self):\n",
    "        return len(self.items) == 0\n",
    "\n",
    "    def size(self):\n",
    "        return len(self.items)\n",
    "\n",
    "    def display(self):\n",
    "        print(\"Queue members: \", self.items)\n",
    "        print(\"Queue size: \", self.size())\n"
   ]
  },
  {
   "cell_type": "code",
   "execution_count": 2,
   "metadata": {},
   "outputs": [
    {
     "name": "stdout",
     "output_type": "stream",
     "text": [
      "Queue members:  [1, 2, 3]\n",
      "Queue size:  3\n",
      "Queue members:  [2, 3]\n",
      "Queue size:  2\n"
     ]
    }
   ],
   "source": [
    "# create a new queue\n",
    "q = Queue()\n",
    "\n",
    "# add some items to the queue\n",
    "q.enqueue(1)\n",
    "q.enqueue(2)\n",
    "q.enqueue(3)\n",
    "\n",
    "# display the current state of the queue\n",
    "q.display()  # should print: Queue members: [1, 2, 3], Queue size: 3\n",
    "\n",
    "# remove an item from the queue\n",
    "q.dequeue()\n",
    "\n",
    "# display the current state of the queue again\n",
    "q.display()  # should print: Queue members: [2, 3], Queue size: 2\n"
   ]
  },
  {
   "cell_type": "code",
   "execution_count": 2,
   "metadata": {},
   "outputs": [
    {
     "name": "stdout",
     "output_type": "stream",
     "text": [
      "Queue members: [1, 2, 3]\n",
      "Queue size: 3\n",
      "Queue members: [2, 3]\n",
      "Queue size: 2\n"
     ]
    }
   ],
   "source": [
    "# using Python's built-in queue module and display its members and size\n",
    "import queue\n",
    "\n",
    "def display_queue(q):\n",
    "    # Display all members of the queue\n",
    "    print(\"Queue members:\", list(q.queue))\n",
    "    \n",
    "    # Display the size of the queue\n",
    "    print(\"Queue size:\", q.qsize())\n",
    "\n",
    "# Example usage\n",
    "q = queue.Queue()\n",
    "q.put(1)\n",
    "q.put(2)\n",
    "q.put(3)\n",
    "display_queue(q)\n",
    "\n",
    "q.get()\n",
    "display_queue(q)\n"
   ]
  }
 ],
 "metadata": {
  "kernelspec": {
   "display_name": "venv",
   "language": "python",
   "name": "python3"
  },
  "language_info": {
   "codemirror_mode": {
    "name": "ipython",
    "version": 3
   },
   "file_extension": ".py",
   "mimetype": "text/x-python",
   "name": "python",
   "nbconvert_exporter": "python",
   "pygments_lexer": "ipython3",
   "version": "3.8.3"
  },
  "orig_nbformat": 4
 },
 "nbformat": 4,
 "nbformat_minor": 2
}
