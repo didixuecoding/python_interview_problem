{
 "cells": [
  {
   "attachments": {},
   "cell_type": "markdown",
   "metadata": {},
   "source": [
    "Given two nonempty lists of user_ids and tips, write a function most_tips to find the user that tipped the most.\n",
    "\n",
    "Example:\n",
    "\n",
    "Input:\n",
    "\n",
    "user_ids = [103, 105, 105, 107, 106, 103, 102, 108, 107, 103, 102]\n",
    "\n",
    "tips = [2, 5, 1, 0, 2, 1, 1, 0, 0, 2, 2]\n",
    "\n",
    "Output:\n",
    "\n",
    "def most_tips(user_ids,tips) -> 105"
   ]
  },
  {
   "cell_type": "code",
   "execution_count": 1,
   "metadata": {},
   "outputs": [],
   "source": [
    "user_ids = [103, 105, 105, 107, 106, 103, 102, 108, 107, 103, 102]\n",
    "tips = [2, 5, 1, 0, 2, 1, 1, 0, 0, 2, 2]"
   ]
  },
  {
   "cell_type": "code",
   "execution_count": 2,
   "metadata": {},
   "outputs": [],
   "source": [
    "def most_tips(user_ids, tips):\n",
    "    total_tips = {}\n",
    "    for index, user_id in enumerate(user_ids):\n",
    "        if user_id in total_tips:\n",
    "            total_tips[user_id] += tips[index]\n",
    "        else:\n",
    "            total_tips[user_id] = tips[index]\n",
    "\n",
    "    print(\"user_id:\",max(total_tips,key=total_tips.get), \"tips the most\")"
   ]
  },
  {
   "cell_type": "code",
   "execution_count": 3,
   "metadata": {},
   "outputs": [
    {
     "name": "stdout",
     "output_type": "stream",
     "text": [
      "user_id: 105 tips the most\n"
     ]
    }
   ],
   "source": [
    "most_tips(user_ids, tips)"
   ]
  }
 ],
 "metadata": {
  "kernelspec": {
   "display_name": "venv",
   "language": "python",
   "name": "python3"
  },
  "language_info": {
   "codemirror_mode": {
    "name": "ipython",
    "version": 3
   },
   "file_extension": ".py",
   "mimetype": "text/x-python",
   "name": "python",
   "nbconvert_exporter": "python",
   "pygments_lexer": "ipython3",
   "version": "3.8.3"
  },
  "orig_nbformat": 4
 },
 "nbformat": 4,
 "nbformat_minor": 2
}
