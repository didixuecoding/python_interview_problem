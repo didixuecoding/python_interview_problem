{
 "cells": [
  {
   "attachments": {},
   "cell_type": "markdown",
   "metadata": {},
   "source": [
    "You are given a list of dictionaries representing student records:\n",
    "\n",
    "students = [\n",
    "    {'name': 'Alice', 'age': 20, 'major': 'Computer Science'},\n",
    "    {'name': 'Bob', 'age': 22, 'major': 'Mathematics'},\n",
    "    {'name': 'Charlie', 'age': 19, 'major': 'History'},\n",
    "    {'name': 'Dave', 'age': 21, 'major': 'Computer Science'},\n",
    "    {'name': 'Eve', 'age': 20, 'major': 'Mathematics'}\n",
    "]\n",
    "\n",
    "Your task is to write a Python function that takes this list of dictionaries as input and returns a dictionary that groups the students by their major. \n",
    "The keys of the resulting dictionary should be the distinct majors, and the values should be lists of dictionaries representing the students in that major.\n",
    "\n",
    "{\n",
    "    'Computer Science': [\n",
    "        {'name': 'Alice', 'age': 20, 'major': 'Computer Science'},\n",
    "        {'name': 'Dave', 'age': 21, 'major': 'Computer Science'}\n",
    "    ],\n",
    "    'Mathematics': [\n",
    "        {'name': 'Bob', 'age': 22, 'major': 'Mathematics'},\n",
    "        {'name': 'Eve', 'age': 20, 'major': 'Mathematics'}\n",
    "    ],\n",
    "    'History': [\n",
    "        {'name': 'Charlie', 'age': 19, 'major': 'History'}\n",
    "    ]\n",
    "}\n",
    "\n",
    "\n",
    "\n"
   ]
  },
  {
   "cell_type": "code",
   "execution_count": 1,
   "metadata": {},
   "outputs": [],
   "source": [
    "students = [\n",
    "    {'name': 'Alice', 'age': 20, 'major': 'Computer Science'},\n",
    "    {'name': 'Bob', 'age': 22, 'major': 'Mathematics'},\n",
    "    {'name': 'Charlie', 'age': 19, 'major': 'History'},\n",
    "    {'name': 'Dave', 'age': 21, 'major': 'Computer Science'},\n",
    "    {'name': 'Eve', 'age': 20, 'major': 'Mathematics'}\n",
    "]"
   ]
  },
  {
   "cell_type": "code",
   "execution_count": 2,
   "metadata": {},
   "outputs": [],
   "source": [
    "def group_students_by_major(students):\n",
    "    groups = {}\n",
    "    for student in students:\n",
    "        major = student['major']\n",
    "        if major not in groups:\n",
    "            groups[major] = []\n",
    "        groups[major].append(student)\n",
    "    return groups\n"
   ]
  },
  {
   "cell_type": "code",
   "execution_count": 3,
   "metadata": {},
   "outputs": [
    {
     "name": "stdout",
     "output_type": "stream",
     "text": [
      "{'Computer Science': [{'name': 'Alice', 'age': 20, 'major': 'Computer Science'}, {'name': 'Dave', 'age': 21, 'major': 'Computer Science'}], 'Mathematics': [{'name': 'Bob', 'age': 22, 'major': 'Mathematics'}, {'name': 'Eve', 'age': 20, 'major': 'Mathematics'}], 'History': [{'name': 'Charlie', 'age': 19, 'major': 'History'}]}\n"
     ]
    }
   ],
   "source": [
    "result = group_students_by_major(students)\n",
    "print(result)"
   ]
  }
 ],
 "metadata": {
  "kernelspec": {
   "display_name": "venv",
   "language": "python",
   "name": "python3"
  },
  "language_info": {
   "codemirror_mode": {
    "name": "ipython",
    "version": 3
   },
   "file_extension": ".py",
   "mimetype": "text/x-python",
   "name": "python",
   "nbconvert_exporter": "python",
   "pygments_lexer": "ipython3",
   "version": "3.8.3"
  },
  "orig_nbformat": 4
 },
 "nbformat": 4,
 "nbformat_minor": 2
}
