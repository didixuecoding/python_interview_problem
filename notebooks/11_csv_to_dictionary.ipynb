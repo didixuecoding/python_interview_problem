{
 "cells": [
  {
   "attachments": {},
   "cell_type": "markdown",
   "metadata": {},
   "source": [
    "You are given a CSV file with the following schema:\n",
    "name, age, gender\n",
    "\n",
    "Your task is to write a Python function that reads in this CSV file and returns a list of dictionaries, where each dictionary corresponds to a row in the CSV file. The dictionary should have keys corresponding to the column names (name, age, and gender) and values corresponding to the values in each row.\n",
    "\n",
    "Assuming example.csv contains the following data:\n",
    "\n",
    "name,age,gender\n",
    "\n",
    "John,25,Male\n",
    "\n",
    "Jane,30,Female\n",
    "\n",
    "Bob,40,Male\n",
    "\n",
    "The output of the code will be:\n",
    "\n",
    "[    {'name': 'John', 'age': '25', 'gender': 'Male'},    {'name': 'Jane', 'age': '30', 'gender': 'Female'},    {'name': 'Bob', 'age': '40', 'gender': 'Male'}]\n",
    "\n"
   ]
  },
  {
   "cell_type": "code",
   "execution_count": 1,
   "metadata": {},
   "outputs": [],
   "source": [
    "import csv\n",
    "\n",
    "def csv_to_dict_list(csv_path):\n",
    "    with open(csv_path, 'r') as csvfile:\n",
    "        reader = csv.DictReader(csvfile)\n",
    "        return [row for row in reader]\n"
   ]
  },
  {
   "cell_type": "code",
   "execution_count": 5,
   "metadata": {},
   "outputs": [],
   "source": [
    "import pandas as pd\n",
    "\n",
    "def csv_to_dict_list_pandas(csv_path):\n",
    "    df = pd.read_csv(csv_path)\n",
    "    return df.to_dict('records')\n"
   ]
  },
  {
   "cell_type": "code",
   "execution_count": 4,
   "metadata": {},
   "outputs": [
    {
     "name": "stdout",
     "output_type": "stream",
     "text": [
      "[{'name': 'John', 'age': '25', 'gender': 'Male'}, {'name': 'Jane', 'age': '30', 'gender': 'Female'}, {'name': 'Bob', 'age': '40', 'gender': 'Male'}]\n"
     ]
    }
   ],
   "source": [
    "csv_path = '../data/example.csv'\n",
    "result = csv_to_dict_list(csv_path)\n",
    "print(result)\n"
   ]
  },
  {
   "cell_type": "code",
   "execution_count": 6,
   "metadata": {},
   "outputs": [
    {
     "name": "stdout",
     "output_type": "stream",
     "text": [
      "[{'name': 'John', 'age': 25, 'gender': 'Male'}, {'name': 'Jane', 'age': 30, 'gender': 'Female'}, {'name': 'Bob', 'age': 40, 'gender': 'Male'}]\n"
     ]
    }
   ],
   "source": [
    "result = csv_to_dict_list_pandas(csv_path)\n",
    "print(result)"
   ]
  }
 ],
 "metadata": {
  "kernelspec": {
   "display_name": "venv",
   "language": "python",
   "name": "python3"
  },
  "language_info": {
   "codemirror_mode": {
    "name": "ipython",
    "version": 3
   },
   "file_extension": ".py",
   "mimetype": "text/x-python",
   "name": "python",
   "nbconvert_exporter": "python",
   "pygments_lexer": "ipython3",
   "version": "3.8.3"
  },
  "orig_nbformat": 4
 },
 "nbformat": 4,
 "nbformat_minor": 2
}
