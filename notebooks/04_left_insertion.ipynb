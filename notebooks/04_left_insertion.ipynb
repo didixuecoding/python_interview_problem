{
 "cells": [
  {
   "attachments": {},
   "cell_type": "markdown",
   "metadata": {},
   "source": [
    "Write a function takes two parameters, first is a sorted list/array, second is a specific value\n",
    "\n",
    "Return the left insertion point (index) for a specified value in a sorted order list\n",
    "\n",
    "a = [1,2,4,5]\n",
    "\n",
    "print(index(a, 6)) -> 4\n",
    "\n",
    "print(index(a, 3)) -> 2"
   ]
  },
  {
   "cell_type": "code",
   "execution_count": 1,
   "metadata": {},
   "outputs": [],
   "source": [
    "def index(sorted_list, value):\n",
    "    left = 0\n",
    "    right = len(sorted_list)\n",
    "    while left < right:\n",
    "        middle = (left + right) // 2\n",
    "        if sorted_list[middle] < value:\n",
    "            left = middle + 1\n",
    "        else:\n",
    "            right = middle\n",
    "    return left"
   ]
  },
  {
   "cell_type": "code",
   "execution_count": 3,
   "metadata": {},
   "outputs": [],
   "source": [
    "import bisect\n",
    "\n",
    "def index_bisect(sorted_list, value):\n",
    "    return bisect.bisect_left(sorted_list, value)\n"
   ]
  },
  {
   "cell_type": "code",
   "execution_count": 2,
   "metadata": {},
   "outputs": [
    {
     "name": "stdout",
     "output_type": "stream",
     "text": [
      "1\n",
      "6\n",
      "4\n"
     ]
    }
   ],
   "source": [
    "a = [1,2,3,4,5,6]\n",
    "print(index(a, 2))\n",
    "print(index(a, 7))\n",
    "print(index(a, 5))\n"
   ]
  },
  {
   "cell_type": "code",
   "execution_count": 4,
   "metadata": {},
   "outputs": [
    {
     "name": "stdout",
     "output_type": "stream",
     "text": [
      "1\n",
      "6\n",
      "4\n"
     ]
    }
   ],
   "source": [
    "a = [1,2,3,4,5,6]\n",
    "print(index_bisect(a, 2))\n",
    "print(index_bisect(a, 7))\n",
    "print(index_bisect(a, 5))"
   ]
  }
 ],
 "metadata": {
  "kernelspec": {
   "display_name": "venv",
   "language": "python",
   "name": "python3"
  },
  "language_info": {
   "codemirror_mode": {
    "name": "ipython",
    "version": 3
   },
   "file_extension": ".py",
   "mimetype": "text/x-python",
   "name": "python",
   "nbconvert_exporter": "python",
   "pygments_lexer": "ipython3",
   "version": "3.8.3"
  },
  "orig_nbformat": 4
 },
 "nbformat": 4,
 "nbformat_minor": 2
}
