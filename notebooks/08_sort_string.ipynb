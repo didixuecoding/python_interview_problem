{
 "cells": [
  {
   "attachments": {},
   "cell_type": "markdown",
   "metadata": {},
   "source": [
    "Given a list of strings, write a function, sorting from scratch to sort the list in ascending alphabetical order.\n",
    "\n",
    "Notes: - Do NOT use the built-in sorted function - Return the new sorted list, rather than modifying the list in-place\n",
    "\n",
    "Bonus: Have your solution be O(nlog(n)).\n",
    "\n",
    "Example:\n",
    "\n",
    "Input:\n",
    "\n",
    "array = [\"apple\", \"cat\", \"banana\", \"zoo\", \"football\"]\n",
    "\n",
    "Output:\n",
    "\n",
    "def sorting(array) -> [\"apple\", \"banana\", \"cat\", \"football\", \"zoo\"]\n"
   ]
  },
  {
   "cell_type": "code",
   "execution_count": 1,
   "metadata": {},
   "outputs": [],
   "source": [
    "def quicksort(arr):\n",
    "    if len(arr) < 2:\n",
    "        return arr\n",
    "    pivot = arr[0]\n",
    "    less = [x for x in arr[1:] if x < pivot]\n",
    "    greater = [x for x in arr[1:] if x >= pivot]\n",
    "    return quicksort(less) + [pivot] + quicksort(greater)\n"
   ]
  },
  {
   "cell_type": "code",
   "execution_count": 2,
   "metadata": {},
   "outputs": [],
   "source": [
    "def merge_sort(array):\n",
    "    if len(array) <= 1:\n",
    "        return array\n",
    "\n",
    "    # Divide the array in half\n",
    "    mid = len(array) // 2\n",
    "    left = array[:mid]\n",
    "    right = array[mid:]\n",
    "\n",
    "    # Recursively sort the two halves\n",
    "    left_sorted = merge_sort(left)\n",
    "    right_sorted = merge_sort(right)\n",
    "\n",
    "    # Merge the two sorted halves\n",
    "    result = []\n",
    "    i = j = 0\n",
    "    while i < len(left_sorted) and j < len(right_sorted):\n",
    "        if left_sorted[i] < right_sorted[j]:\n",
    "            result.append(left_sorted[i])\n",
    "            i += 1\n",
    "        else:\n",
    "            result.append(right_sorted[j])\n",
    "            j += 1\n",
    "\n",
    "    result += left_sorted[i:]\n",
    "    result += right_sorted[j:]\n",
    "\n",
    "    return result"
   ]
  },
  {
   "cell_type": "code",
   "execution_count": 3,
   "metadata": {},
   "outputs": [
    {
     "name": "stdout",
     "output_type": "stream",
     "text": [
      "['apple', 'banana', 'cat', 'football', 'zoo']\n",
      "['apple', 'banana', 'cat', 'football', 'zoo']\n"
     ]
    }
   ],
   "source": [
    "array = [\"apple\", \"cat\", \"banana\", \"zoo\", \"football\"]\n",
    "print(quicksort(array))\n",
    "\n",
    "print(merge_sort(array))"
   ]
  }
 ],
 "metadata": {
  "kernelspec": {
   "display_name": "venv",
   "language": "python",
   "name": "python3"
  },
  "language_info": {
   "codemirror_mode": {
    "name": "ipython",
    "version": 3
   },
   "file_extension": ".py",
   "mimetype": "text/x-python",
   "name": "python",
   "nbconvert_exporter": "python",
   "pygments_lexer": "ipython3",
   "version": "3.8.3"
  },
  "orig_nbformat": 4
 },
 "nbformat": 4,
 "nbformat_minor": 2
}
