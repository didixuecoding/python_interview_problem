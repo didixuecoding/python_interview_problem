{
 "cells": [
  {
   "attachments": {},
   "cell_type": "markdown",
   "metadata": {},
   "source": [
    "Given a list of integers, find the index at which the sum of the left half of the list is equal to the right half.\n",
    "\n",
    "If there is no index where this condition is satisfied return -1.\n",
    "\n",
    "Example 1:\n",
    "\n",
    "Input:\n",
    "\n",
    "nums = [1, 7, 3, 5, 6]\n",
    "\n",
    "Output:\n",
    "\n",
    "equivalent_index(nums) -> 2\n",
    "\n",
    "Example 2:\n",
    "\n",
    "Input:\n",
    "\n",
    "nums = [1,3,5]\n",
    "Output:\n",
    "\n",
    "equivalent_index(nums) -> -1"
   ]
  },
  {
   "cell_type": "code",
   "execution_count": 4,
   "metadata": {},
   "outputs": [],
   "source": [
    "def equivalent_index(nums):\n",
    "    total_sum = sum(nums)\n",
    "    left_sum = 0\n",
    "\n",
    "    for index, num in enumerate(nums):\n",
    "        right_sum = total_sum - left_sum - num\n",
    "        left_sum += num\n",
    "        if left_sum == right_sum:\n",
    "            return index\n",
    "    return -1 "
   ]
  },
  {
   "cell_type": "code",
   "execution_count": 5,
   "metadata": {},
   "outputs": [
    {
     "name": "stdout",
     "output_type": "stream",
     "text": [
      "2\n"
     ]
    }
   ],
   "source": [
    "nums = [1, 7, 3, 5, 6]\n",
    "print(equivalent_index(nums))"
   ]
  },
  {
   "cell_type": "code",
   "execution_count": 6,
   "metadata": {},
   "outputs": [
    {
     "name": "stdout",
     "output_type": "stream",
     "text": [
      "0\n"
     ]
    }
   ],
   "source": [
    "nums = [10, 7, 3]\n",
    "print(equivalent_index(nums))"
   ]
  }
 ],
 "metadata": {
  "kernelspec": {
   "display_name": "venv",
   "language": "python",
   "name": "python3"
  },
  "language_info": {
   "codemirror_mode": {
    "name": "ipython",
    "version": 3
   },
   "file_extension": ".py",
   "mimetype": "text/x-python",
   "name": "python",
   "nbconvert_exporter": "python",
   "pygments_lexer": "ipython3",
   "version": "3.8.3"
  },
  "orig_nbformat": 4
 },
 "nbformat": 4,
 "nbformat_minor": 2
}
