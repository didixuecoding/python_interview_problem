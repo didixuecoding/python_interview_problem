{
 "cells": [
  {
   "attachments": {},
   "cell_type": "markdown",
   "metadata": {},
   "source": [
    "Question: You have been given a list of sales data for a large retail store chain. \n",
    "\n",
    "Each element of the list is a tuple that contains the following items: store_id, product_id, date, and sales_amount. \n",
    "\n",
    "Write a Python program that reads the sales data list and produces a report that shows the total sales amount for each store, broken down by month.\n",
    "\n",
    "The report should be written to a new list of tuples with the following items: store_id, product_id, month, and total_sales_amount."
   ]
  },
  {
   "attachments": {},
   "cell_type": "markdown",
   "metadata": {},
   "source": [
    "input:\n",
    "\n",
    "sales_data = [\n",
    "    (1, 101, '2022-01-01', 100.00),\n",
    "    (1, 101, '2022-01-02', 50.00),\n",
    "    (1, 101, '2022-02-01', 75.00),\n",
    "    (1, 102, '2022-01-01', 200.00),\n",
    "    (2, 101, '2022-01-01', 150.00),\n",
    "    (2, 101, '2022-02-01', 100.00),\n",
    "    (2, 102, '2022-01-01', 50.00),\n",
    "    (2, 102, '2022-02-01', 75.00)\n",
    "]\n",
    "\n",
    "output:\n",
    "\n",
    "[\n",
    "    (1, '2022-01', 350.0), \n",
    "    (1, '2022-02', 75.0), \n",
    "    (2, '2022-01', 200.0), \n",
    "    (2, '2022-02', 175.0)\n",
    "]"
   ]
  },
  {
   "cell_type": "code",
   "execution_count": 9,
   "metadata": {},
   "outputs": [],
   "source": [
    "sales_data = [\n",
    "    (1, 101, '2022-01-01', 100.00),\n",
    "    (1, 101, '2022-01-02', 50.00),\n",
    "    (1, 101, '2022-02-01', 75.00),\n",
    "    (1, 102, '2022-01-01', 200.00),\n",
    "    (2, 101, '2022-01-01', 150.00),\n",
    "    (2, 101, '2022-02-01', 100.00),\n",
    "    (2, 102, '2022-01-01', 50.00),\n",
    "    (2, 102, '2022-02-01', 75.00)\n",
    "]"
   ]
  },
  {
   "cell_type": "code",
   "execution_count": 8,
   "metadata": {},
   "outputs": [],
   "source": [
    "from datetime import datetime\n",
    "\n",
    "# Define a function to extract year-month from a date string\n",
    "def extract_year_month(date_str):\n",
    "    date = datetime.strptime(date_str, '%Y-%m-%d')\n",
    "    return date.strftime('%Y-%m')\n",
    "\n",
    "# Define a dictionary to store the sales amounts by store and month\n",
    "def calculate_store_sales_by_month(sales_data):\n",
    "    sales_dict = {}\n",
    "    for sale in sales_data:\n",
    "        store_id, product_id, date_str, sales_amount = sale\n",
    "        year_month = extract_year_month(date_str)\n",
    "        key = (store_id, year_month)\n",
    "        if key not in sales_dict:\n",
    "            sales_dict[key] = 0.0\n",
    "        sales_dict[key] += sales_amount\n",
    "\n",
    "    # Write the sales report to a new list of tuples\n",
    "    sales_report = []\n",
    "    for key, total_sales_amount in sales_dict.items():\n",
    "        store_id, year_month = key\n",
    "        sales_report.append((store_id, year_month, total_sales_amount))\n",
    "    return sales_report\n"
   ]
  },
  {
   "cell_type": "code",
   "execution_count": 7,
   "metadata": {},
   "outputs": [
    {
     "name": "stdout",
     "output_type": "stream",
     "text": [
      "[(1, '2022-01', 350.0), (1, '2022-02', 75.0), (2, '2022-01', 200.0), (2, '2022-02', 175.0)]\n"
     ]
    }
   ],
   "source": [
    "# Print the sales report\n",
    "sales_report = calculate_store_sales_by_month(sales_data)\n",
    "print(sales_report)"
   ]
  }
 ],
 "metadata": {
  "kernelspec": {
   "display_name": "venv",
   "language": "python",
   "name": "python3"
  },
  "language_info": {
   "codemirror_mode": {
    "name": "ipython",
    "version": 3
   },
   "file_extension": ".py",
   "mimetype": "text/x-python",
   "name": "python",
   "nbconvert_exporter": "python",
   "pygments_lexer": "ipython3",
   "version": "3.8.3"
  },
  "orig_nbformat": 4
 },
 "nbformat": 4,
 "nbformat_minor": 2
}
