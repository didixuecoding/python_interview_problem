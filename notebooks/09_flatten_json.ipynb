{
 "cells": [
  {
   "cell_type": "code",
   "execution_count": null,
   "metadata": {},
   "outputs": [],
   "source": []
  },
  {
   "attachments": {},
   "cell_type": "markdown",
   "metadata": {},
   "source": [
    "Given a JSON string with nested objects, write a function flatten_json that flattens all the objects to a single key-value dictionary. Do not use the library that actually performs this function.\n",
    "\n",
    "Example:\n",
    "\n",
    "Input:\n",
    "\n",
    "import json\n",
    "\n",
    "json_str = json.dumps({'a':{'b':'c', 'd':'e'}})\n",
    "\n",
    "Output:\n",
    "\n",
    "def flatten_json(json_str) -> json.dumps({'a.b':'c', 'a.d':'e'})"
   ]
  },
  {
   "cell_type": "code",
   "execution_count": 7,
   "metadata": {},
   "outputs": [
    {
     "name": "stdout",
     "output_type": "stream",
     "text": [
      "{\"a\": {\"b\": \"c\", \"d\": \"e\"}}\n"
     ]
    }
   ],
   "source": [
    "import json\n",
    "\n",
    "json_str = json.dumps({'a':{'b':'c', 'd':'e'}})\n",
    "\n",
    "print(json_str)"
   ]
  },
  {
   "cell_type": "code",
   "execution_count": 8,
   "metadata": {},
   "outputs": [],
   "source": [
    "def flatten_json(json_str):\n",
    "    # Convert JSON string to Python dictionary\n",
    "    data = json.loads(json_str)\n",
    "    # Initialize empty dictionary to store flattened key-value pairs\n",
    "    result = {}\n",
    "    # Recursively flatten nested objects\n",
    "    def flatten(obj, prefix=''):\n",
    "        # If object is a dictionary, recursively flatten each key-value pair\n",
    "        if isinstance(obj, dict):\n",
    "            for key, value in obj.items():\n",
    "                flatten(value, prefix + key + '_')\n",
    "        # If object is a list, recursively flatten each item with the same prefix\n",
    "        elif isinstance(obj, list):\n",
    "            for i in range(len(obj)):\n",
    "                flatten(obj[i], prefix + str(i) + '_')\n",
    "        # If object is a scalar value, add it to the result dictionary with the current prefix as the key\n",
    "        else:\n",
    "            result[prefix[:-1]] = obj\n",
    "    flatten(data)\n",
    "    return result\n"
   ]
  },
  {
   "cell_type": "code",
   "execution_count": 9,
   "metadata": {},
   "outputs": [
    {
     "name": "stdout",
     "output_type": "stream",
     "text": [
      "{'a_b': 'c', 'a_d': 'e'}\n"
     ]
    }
   ],
   "source": [
    "print(flatten_json(json_str))"
   ]
  },
  {
   "cell_type": "code",
   "execution_count": 10,
   "metadata": {},
   "outputs": [],
   "source": [
    "def flatten_json_obj(json_obj, prefix=''):\n",
    "    flattened_dict = {}\n",
    "    if isinstance(json_obj, dict):\n",
    "        for key in json_obj:\n",
    "            new_prefix = prefix + key + '_'\n",
    "            flattened_dict.update(flatten_json_obj(json_obj[key], new_prefix))\n",
    "    elif isinstance(json_obj, list):\n",
    "        for i, item in enumerate(json_obj):\n",
    "            new_prefix = prefix + str(i) + '_'\n",
    "            flattened_dict.update(flatten_json_obj(item, new_prefix))\n",
    "    else:\n",
    "        flattened_dict[prefix[:-1]] = json_obj\n",
    "    return flattened_dict"
   ]
  },
  {
   "cell_type": "code",
   "execution_count": 11,
   "metadata": {},
   "outputs": [
    {
     "name": "stdout",
     "output_type": "stream",
     "text": [
      "{'a_b': 'c', 'a_d': 'e'}\n"
     ]
    }
   ],
   "source": [
    "json_obj = json.loads(json_str)\n",
    "print(flatten_json_obj(json_obj))"
   ]
  }
 ],
 "metadata": {
  "kernelspec": {
   "display_name": "venv",
   "language": "python",
   "name": "python3"
  },
  "language_info": {
   "codemirror_mode": {
    "name": "ipython",
    "version": 3
   },
   "file_extension": ".py",
   "mimetype": "text/x-python",
   "name": "python",
   "nbconvert_exporter": "python",
   "pygments_lexer": "ipython3",
   "version": "3.8.3"
  },
  "orig_nbformat": 4
 },
 "nbformat": 4,
 "nbformat_minor": 2
}
