{
 "cells": [
  {
   "attachments": {},
   "cell_type": "markdown",
   "metadata": {},
   "source": [
    "Given a string, write a function recurring_char to find its first recurring character. Return None if there is no recurring character.\n",
    "\n",
    "Treat upper and lower case letters as distinct characters.\n",
    "\n",
    "You may assume the input string includes no spaces.\n",
    "\n",
    "Example 1:\n",
    "\n",
    "Input:\n",
    "input = \"interviewquery\"\n",
    "\n",
    "Output:\n",
    "output = \"i\"\n",
    "\n",
    "Example 2:\n",
    "\n",
    "Input:\n",
    "input = \"interv\"\n",
    "\n",
    "Output:\n",
    "output = None"
   ]
  },
  {
   "cell_type": "code",
   "execution_count": 1,
   "metadata": {},
   "outputs": [],
   "source": [
    "def recurring_char(input):\n",
    "    seen = set()\n",
    "    for char in input:\n",
    "        if char in seen:\n",
    "            return char\n",
    "        seen.add(char)\n",
    "    return None"
   ]
  },
  {
   "cell_type": "code",
   "execution_count": 2,
   "metadata": {},
   "outputs": [
    {
     "name": "stdout",
     "output_type": "stream",
     "text": [
      "e\n"
     ]
    }
   ],
   "source": [
    "input = \"howimeetyourmother\"\n",
    "print(recurring_char(input))"
   ]
  },
  {
   "cell_type": "code",
   "execution_count": 3,
   "metadata": {},
   "outputs": [
    {
     "name": "stdout",
     "output_type": "stream",
     "text": [
      "None\n"
     ]
    }
   ],
   "source": [
    "input = \"background\"\n",
    "print(recurring_char(input))"
   ]
  }
 ],
 "metadata": {
  "kernelspec": {
   "display_name": "venv",
   "language": "python",
   "name": "python3"
  },
  "language_info": {
   "codemirror_mode": {
    "name": "ipython",
    "version": 3
   },
   "file_extension": ".py",
   "mimetype": "text/x-python",
   "name": "python",
   "nbconvert_exporter": "python",
   "pygments_lexer": "ipython3",
   "version": "3.8.3"
  },
  "orig_nbformat": 4
 },
 "nbformat": 4,
 "nbformat_minor": 2
}
